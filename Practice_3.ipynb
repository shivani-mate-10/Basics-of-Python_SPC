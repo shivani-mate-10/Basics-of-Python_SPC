{
  "nbformat": 4,
  "nbformat_minor": 0,
  "metadata": {
    "colab": {
      "name": "Practice-3.ipynb",
      "provenance": []
    },
    "kernelspec": {
      "name": "python3",
      "display_name": "Python 3"
    },
    "language_info": {
      "name": "python"
    }
  },
  "cells": [
    {
      "cell_type": "code",
      "execution_count": 4,
      "metadata": {
        "id": "FpjD5nmq1ywe"
      },
      "outputs": [],
      "source": [
        "import numpy as np\n",
        "from scipy.stats import bernoulli\n",
        "import matplotlib.pyplot as plt\n",
        "%matplotlib inline\n"
      ]
    },
    {
      "cell_type": "code",
      "source": [
        "p=0.4;\n",
        "x=[1,0]\n",
        "bernoulli.pmf(x,p)"
      ],
      "metadata": {
        "colab": {
          "base_uri": "https://localhost:8080/"
        },
        "id": "7dIMF3rP2Ghy",
        "outputId": "a0523693-697f-4986-d908-a61c15f60744"
      },
      "execution_count": 5,
      "outputs": [
        {
          "output_type": "execute_result",
          "data": {
            "text/plain": [
              "array([0.4, 0.6])"
            ]
          },
          "metadata": {},
          "execution_count": 5
        }
      ]
    },
    {
      "cell_type": "code",
      "source": [
        "bernoulli.cdf(x,p)"
      ],
      "metadata": {
        "colab": {
          "base_uri": "https://localhost:8080/"
        },
        "id": "SIgtBSPM2Gr5",
        "outputId": "494a5282-635c-46c3-f12b-a02ad9a5be50"
      },
      "execution_count": 6,
      "outputs": [
        {
          "output_type": "execute_result",
          "data": {
            "text/plain": [
              "array([1. , 0.6])"
            ]
          },
          "metadata": {},
          "execution_count": 6
        }
      ]
    },
    {
      "cell_type": "code",
      "source": [
        "mean, var, skew, kurt = bernoulli.stats(p, moments='mvsk')\n",
        "print(mean)\n",
        "print(var)\n",
        "print(skew)\n",
        "print(kurt)"
      ],
      "metadata": {
        "colab": {
          "base_uri": "https://localhost:8080/"
        },
        "id": "ggQip0LK2G0T",
        "outputId": "f71d26e7-a745-4961-b7b3-b47c5e2b33c3"
      },
      "execution_count": 7,
      "outputs": [
        {
          "output_type": "stream",
          "name": "stdout",
          "text": [
            "0.4\n",
            "0.24\n",
            "0.40824829046386296\n",
            "-1.8333333333333337\n"
          ]
        }
      ]
    },
    {
      "cell_type": "code",
      "source": [
        "bernoulli.rvs(p,size=10)"
      ],
      "metadata": {
        "colab": {
          "base_uri": "https://localhost:8080/"
        },
        "id": "Bpw8KGs_2G3Y",
        "outputId": "a9588da7-170d-4d49-e49b-a34c2b4a4ff4"
      },
      "execution_count": 8,
      "outputs": [
        {
          "output_type": "execute_result",
          "data": {
            "text/plain": [
              "array([1, 0, 1, 0, 0, 1, 0, 1, 0, 0])"
            ]
          },
          "metadata": {},
          "execution_count": 8
        }
      ]
    },
    {
      "cell_type": "code",
      "source": [
        "plt.plot(x,bernoulli.pmf(x,p),ls=\"\",marker=\"s\",color='g')"
      ],
      "metadata": {
        "colab": {
          "base_uri": "https://localhost:8080/",
          "height": 282
        },
        "id": "t1LYs8XE2G6h",
        "outputId": "1f46ed32-5a98-4890-e245-eedf31d36c71"
      },
      "execution_count": 9,
      "outputs": [
        {
          "output_type": "execute_result",
          "data": {
            "text/plain": [
              "[<matplotlib.lines.Line2D at 0x7f8d65a713d0>]"
            ]
          },
          "metadata": {},
          "execution_count": 9
        },
        {
          "output_type": "display_data",
          "data": {
            "text/plain": [
              "<Figure size 432x288 with 1 Axes>"
            ],
            "image/png": "[encoded data removed]"
          },
          "metadata": {
            "needs_background": "light"
          }
        }
      ]
    },
    {
      "cell_type": "code",
      "source": [
        "from scipy.stats import binom"
      ],
      "metadata": {
        "id": "pmA32l8D3Sr6"
      },
      "execution_count": 12,
      "outputs": []
    },
    {
      "cell_type": "code",
      "source": [
        "n, p = 10, 0.3\n",
        "x=np.arange(11)\n",
        "x"
      ],
      "metadata": {
        "colab": {
          "base_uri": "https://localhost:8080/"
        },
        "id": "f_UBw-rb2G9O",
        "outputId": "71909241-2b2d-41bd-a8ad-773fa570aab0"
      },
      "execution_count": 10,
      "outputs": [
        {
          "output_type": "execute_result",
          "data": {
            "text/plain": [
              "array([ 0,  1,  2,  3,  4,  5,  6,  7,  8,  9, 10])"
            ]
          },
          "metadata": {},
          "execution_count": 10
        }
      ]
    },
    {
      "cell_type": "code",
      "source": [
        "binom.pmf(x,n,p)"
      ],
      "metadata": {
        "colab": {
          "base_uri": "https://localhost:8080/"
        },
        "id": "34snNxTX2G_g",
        "outputId": "92c932ad-4959-4a87-e91e-ea1373435e2f"
      },
      "execution_count": 13,
      "outputs": [
        {
          "output_type": "execute_result",
          "data": {
            "text/plain": [
              "array([2.82475249e-02, 1.21060821e-01, 2.33474440e-01, 2.66827932e-01,\n",
              "       2.00120949e-01, 1.02919345e-01, 3.67569090e-02, 9.00169200e-03,\n",
              "       1.44670050e-03, 1.37781000e-04, 5.90490000e-06])"
            ]
          },
          "metadata": {},
          "execution_count": 13
        }
      ]
    },
    {
      "cell_type": "code",
      "source": [
        "binom.cdf(x,n,p)"
      ],
      "metadata": {
        "colab": {
          "base_uri": "https://localhost:8080/"
        },
        "id": "sjduqYA12HBt",
        "outputId": "78a8b29d-675f-4c7b-bb2c-e43646dbad23"
      },
      "execution_count": 14,
      "outputs": [
        {
          "output_type": "execute_result",
          "data": {
            "text/plain": [
              "array([0.02824752, 0.14930835, 0.38278279, 0.64961072, 0.84973167,\n",
              "       0.95265101, 0.98940792, 0.99840961, 0.99985631, 0.9999941 ,\n",
              "       1.        ])"
            ]
          },
          "metadata": {},
          "execution_count": 14
        }
      ]
    },
    {
      "cell_type": "code",
      "source": [
        "mean, var, skew, kurt = binom.stats(n, p, moments='mvsk')\n",
        "print(mean)\n",
        "print(var)\n",
        "print(skew)\n",
        "print(kurt)"
      ],
      "metadata": {
        "colab": {
          "base_uri": "https://localhost:8080/"
        },
        "id": "SOWhf9g42HFO",
        "outputId": "cc1d3572-bb9c-4977-8e31-e6a7b7cff241"
      },
      "execution_count": 15,
      "outputs": [
        {
          "output_type": "stream",
          "name": "stdout",
          "text": [
            "3.0\n",
            "2.0999999999999996\n",
            "0.2760262237369417\n",
            "-0.12380952380952373\n"
          ]
        }
      ]
    }
  ]
}