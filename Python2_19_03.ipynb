{
  "nbformat": 4,
  "nbformat_minor": 0,
  "metadata": {
    "colab": {
      "name": "Python2-19-03",
      "provenance": [],
      "collapsed_sections": []
    },
    "kernelspec": {
      "name": "python3",
      "display_name": "Python 3"
    },
    "language_info": {
      "name": "python"
    }
  },
  "cells": [
    {
      "cell_type": "code",
      "source": [
        "def S1():\n",
        "  #global X\n",
        "  X='Shivani'\n",
        "  print('my name is',X)\n",
        "  print(X)\n",
        "\n",
        "  S1()\n"
      ],
      "metadata": {
        "id": "AxIeKZrZV6J4"
      },
      "execution_count": 11,
      "outputs": []
    },
    {
      "cell_type": "code",
      "source": [
        "def S2():\n",
        "  global W\n",
        "  W='Shiv'\n",
        "  R='Suru'\n",
        "  print(W)\n",
        "  print(R)\n",
        "  S2()"
      ],
      "metadata": {
        "id": "_la2_InxWuv9"
      },
      "execution_count": 52,
      "outputs": []
    },
    {
      "cell_type": "code",
      "source": [
        ""
      ],
      "metadata": {
        "id": "3Dg9tB_rgNmQ"
      },
      "execution_count": null,
      "outputs": []
    },
    {
      "cell_type": "code",
      "source": [
        "print(W)"
      ],
      "metadata": {
        "colab": {
          "base_uri": "https://localhost:8080/"
        },
        "id": "UCfcutcWYjxk",
        "outputId": "ef2e0f49-e673-4cea-dd9e-d126268ea663"
      },
      "execution_count": 53,
      "outputs": [
        {
          "output_type": "stream",
          "name": "stdout",
          "text": [
            "Shiv\n"
          ]
        }
      ]
    },
    {
      "cell_type": "code",
      "source": [
        "# get keywords in python\n",
        "import keyword\n",
        "print(keyword.kwlist)\n"
      ],
      "metadata": {
        "colab": {
          "base_uri": "https://localhost:8080/"
        },
        "id": "40IBn2lrYtEA",
        "outputId": "9cae1081-c17c-4771-a1d0-076c1da6a4de"
      },
      "execution_count": 55,
      "outputs": [
        {
          "output_type": "stream",
          "name": "stdout",
          "text": [
            "['False', 'None', 'True', 'and', 'as', 'assert', 'async', 'await', 'break', 'class', 'continue', 'def', 'del', 'elif', 'else', 'except', 'finally', 'for', 'from', 'global', 'if', 'import', 'in', 'is', 'lambda', 'nonlocal', 'not', 'or', 'pass', 'raise', 'return', 'try', 'while', 'with', 'yield']\n"
          ]
        }
      ]
    },
    {
      "cell_type": "code",
      "source": [
        "x,y,z=4,\"Hello\",\"Monday\"\n",
        "print(x)\n",
        "print(type(x))\n",
        "complex(x)\n",
        "print(y)\n",
        "print(type(y))"
      ],
      "metadata": {
        "colab": {
          "base_uri": "https://localhost:8080/"
        },
        "id": "kK3ImCHeZCnm",
        "outputId": "8014c7ff-87cb-44d5-e174-12227b270403"
      },
      "execution_count": 31,
      "outputs": [
        {
          "output_type": "stream",
          "name": "stdout",
          "text": [
            "4\n",
            "<class 'int'>\n",
            "Hello\n",
            "<class 'str'>\n"
          ]
        }
      ]
    },
    {
      "cell_type": "code",
      "source": [
        "\n",
        "complex(1)"
      ],
      "metadata": {
        "colab": {
          "base_uri": "https://localhost:8080/"
        },
        "id": "ujWIvL94aAJl",
        "outputId": "6dfeeafb-a52a-487b-f090-b76650f96f43"
      },
      "execution_count": 34,
      "outputs": [
        {
          "output_type": "execute_result",
          "data": {
            "text/plain": [
              "(1+0j)"
            ]
          },
          "metadata": {},
          "execution_count": 34
        }
      ]
    },
    {
      "cell_type": "code",
      "source": [
        "'shiv'+'ani'\n",
        "a='Today is'\n",
        "b='saturday'\n",
        "c=a+' '+b\n",
        "print(c)"
      ],
      "metadata": {
        "colab": {
          "base_uri": "https://localhost:8080/"
        },
        "id": "rd_uIyOIa-go",
        "outputId": "2ada4247-93d6-47f9-ba4f-8a8a34ac7323"
      },
      "execution_count": 38,
      "outputs": [
        {
          "output_type": "stream",
          "name": "stdout",
          "text": [
            "Today is saturday\n"
          ]
        }
      ]
    },
    {
      "cell_type": "code",
      "source": [
        "a=input()\n",
        "a"
      ],
      "metadata": {
        "colab": {
          "base_uri": "https://localhost:8080/",
          "height": 53
        },
        "id": "Yuge63qybrT2",
        "outputId": "5c679327-6fbf-40d3-90d6-5952da639569"
      },
      "execution_count": 40,
      "outputs": [
        {
          "name": "stdout",
          "output_type": "stream",
          "text": [
            "shiv\n"
          ]
        },
        {
          "output_type": "execute_result",
          "data": {
            "text/plain": [
              "'shiv'"
            ],
            "application/vnd.google.colaboratory.intrinsic+json": {
              "type": "string"
            }
          },
          "metadata": {},
          "execution_count": 40
        }
      ]
    },
    {
      "cell_type": "code",
      "source": [
        "Name='Shivani'\n",
        "Sirname='Mate'\n",
        "a=1.2\n",
        "b=23\n",
        "c=7j\n",
        "print(int(a))\n",
        "print(float(b))\n",
        "print(complex(a))\n",
        "print(complex(b))"
      ],
      "metadata": {
        "colab": {
          "base_uri": "https://localhost:8080/"
        },
        "id": "FkMa5qQdcD07",
        "outputId": "33daff23-9ec9-4055-8c77-a12ccf2d256b"
      },
      "execution_count": 46,
      "outputs": [
        {
          "output_type": "stream",
          "name": "stdout",
          "text": [
            "1\n",
            "23.0\n",
            "(1.2+0j)\n",
            "(23+0j)\n"
          ]
        }
      ]
    },
    {
      "cell_type": "code",
      "source": [
        "print(int(c))"
      ],
      "metadata": {
        "colab": {
          "base_uri": "https://localhost:8080/",
          "height": 165
        },
        "id": "PZlZRVdJdKHT",
        "outputId": "9465790b-202f-45b6-b6bd-5e349123f6cc"
      },
      "execution_count": 47,
      "outputs": [
        {
          "output_type": "error",
          "ename": "TypeError",
          "evalue": "ignored",
          "traceback": [
            "\u001b[0;31m---------------------------------------------------------------------------\u001b[0m",
            "\u001b[0;31mTypeError\u001b[0m                                 Traceback (most recent call last)",
            "\u001b[0;32m<ipython-input-47-76defb876aaf>\u001b[0m in \u001b[0;36m<module>\u001b[0;34m()\u001b[0m\n\u001b[0;32m----> 1\u001b[0;31m \u001b[0mprint\u001b[0m\u001b[0;34m(\u001b[0m\u001b[0mint\u001b[0m\u001b[0;34m(\u001b[0m\u001b[0mc\u001b[0m\u001b[0;34m)\u001b[0m\u001b[0;34m)\u001b[0m\u001b[0;34m\u001b[0m\u001b[0;34m\u001b[0m\u001b[0m\n\u001b[0m",
            "\u001b[0;31mTypeError\u001b[0m: can't convert complex to int"
          ]
        }
      ]
    },
    {
      "cell_type": "code",
      "source": [
        "b=\"Hello Surabhi\"\n",
        "print(b.strip())\n",
        "print(b.lower())\n",
        "print(b.upper())\n",
        "print(b.replace(\"a\",\"u\"))\n",
        "print(b.split(\"h\"))"
      ],
      "metadata": {
        "colab": {
          "base_uri": "https://localhost:8080/"
        },
        "id": "LcVVkOUKgT1g",
        "outputId": "71bad368-8a0c-433d-d5ab-37413aa6e265"
      },
      "execution_count": 56,
      "outputs": [
        {
          "output_type": "stream",
          "name": "stdout",
          "text": [
            "Hello Surabhi\n",
            "hello surabhi\n",
            "HELLO SURABHI\n",
            "Hello Surubhi\n",
            "['Hello Surab', 'i']\n"
          ]
        }
      ]
    },
    {
      "cell_type": "code",
      "source": [
        "age=21\n",
        "txt=\"My name is shiv, and i am {} years old\"\n",
        "print(txt.format(age))"
      ],
      "metadata": {
        "colab": {
          "base_uri": "https://localhost:8080/"
        },
        "id": "N3GMMvAihWHP",
        "outputId": "fec63e55-f94d-4e45-a81f-520f3d1874a2"
      },
      "execution_count": 58,
      "outputs": [
        {
          "output_type": "stream",
          "name": "stdout",
          "text": [
            "My name is shiv, and i am 21 years old\n"
          ]
        }
      ]
    },
    {
      "cell_type": "code",
      "source": [
        "QT=2\n",
        "item=\"breads\"\n",
        "price=20\n",
        "myorder=\"i will buy {} {} for rupees {}\"\n",
        "print(myorder.format(QT,item,price))"
      ],
      "metadata": {
        "colab": {
          "base_uri": "https://localhost:8080/"
        },
        "id": "flwKuutthrxP",
        "outputId": "9926680b-aa54-4dbc-9d45-460b0dfcea2a"
      },
      "execution_count": 62,
      "outputs": [
        {
          "output_type": "stream",
          "name": "stdout",
          "text": [
            "i will buy 2 breads for rupees 20\n"
          ]
        }
      ]
    },
    {
      "cell_type": "code",
      "source": [
        "Name=input()\n",
        "age=input()\n",
        "Class=input()\n",
        "college=input()\n",
        "\"My name is {}.i am {} years old. My class is {} and my college name is {}\".format(Name,age,Class,college)\n",
        "\n"
      ],
      "metadata": {
        "colab": {
          "base_uri": "https://localhost:8080/",
          "height": 105
        },
        "id": "d92QrP9Mi6RA",
        "outputId": "f31cb257-c982-4711-db9c-f757af557da4"
      },
      "execution_count": 64,
      "outputs": [
        {
          "name": "stdout",
          "output_type": "stream",
          "text": [
            "shiv\n",
            "21\n",
            "TYBSc\n",
            "sp,college\n"
          ]
        },
        {
          "output_type": "execute_result",
          "data": {
            "text/plain": [
              "'My name is shiv.i am 21 years old. My class is TYBSc and my college name is sp,college'"
            ],
            "application/vnd.google.colaboratory.intrinsic+json": {
              "type": "string"
            }
          },
          "metadata": {},
          "execution_count": 64
        }
      ]
    },
    {
      "cell_type": "code",
      "source": [
        "QT=2\n",
        "item=\"breads\"\n",
        "price=20\n",
        "country=\"Indian\"\n",
        "myorder=\"i will buy {a} {b} for rupees {c},rupees in {D} currency\"\n",
        "print(myorder.format(a=QT,b=item,c=price,D=country))"
      ],
      "metadata": {
        "colab": {
          "base_uri": "https://localhost:8080/"
        },
        "id": "83H8n4KGkH2m",
        "outputId": "53c721d4-d39d-41d6-b479-7788b72206d6"
      },
      "execution_count": 66,
      "outputs": [
        {
          "output_type": "stream",
          "name": "stdout",
          "text": [
            "i will buy 2 breads for rupees 20,rupees in Indian currency\n"
          ]
        }
      ]
    },
    {
      "cell_type": "code",
      "source": [
        ""
      ],
      "metadata": {
        "id": "FheFK5VimTO8"
      },
      "execution_count": null,
      "outputs": []
    }
  ]
}