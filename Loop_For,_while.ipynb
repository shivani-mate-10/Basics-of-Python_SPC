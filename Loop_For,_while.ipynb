{
  "nbformat": 4,
  "nbformat_minor": 0,
  "metadata": {
    "colab": {
      "name": "Loop For, while",
      "provenance": []
    },
    "kernelspec": {
      "name": "python3",
      "display_name": "Python 3"
    },
    "language_info": {
      "name": "python"
    }
  },
  "cells": [
    {
      "cell_type": "code",
      "source": [
        "# for loop"
      ],
      "metadata": {
        "id": "fmmrnsKMUxKV"
      },
      "execution_count": null,
      "outputs": []
    },
    {
      "cell_type": "code",
      "source": [
        "P1=\"Python\"\n",
        "for i in P1 :\n",
        "   print(i)"
      ],
      "metadata": {
        "id": "C7O14fsZVZ-r",
        "colab": {
          "base_uri": "https://localhost:8080/"
        },
        "outputId": "f849cd4d-89b6-4458-96b9-f77eeb644e8c"
      },
      "execution_count": null,
      "outputs": [
        {
          "output_type": "stream",
          "name": "stdout",
          "text": [
            "P\n",
            "y\n",
            "t\n",
            "h\n",
            "o\n",
            "n\n"
          ]
        }
      ]
    },
    {
      "cell_type": "code",
      "source": [
        "P1=\"Python\"\n",
        "for i in P1 :\n",
        "    print(i)\n",
        "    if i==\"o\" :\n",
        "      break"
      ],
      "metadata": {
        "id": "rMhbmj7_V8qh",
        "colab": {
          "base_uri": "https://localhost:8080/"
        },
        "outputId": "4cd31aed-d7f4-475f-b2d0-066636eae905"
      },
      "execution_count": null,
      "outputs": [
        {
          "output_type": "stream",
          "name": "stdout",
          "text": [
            "P\n",
            "y\n",
            "t\n",
            "h\n",
            "o\n"
          ]
        }
      ]
    },
    {
      "cell_type": "code",
      "source": [
        "P1=\"Python\"\n",
        "for i in P1 :\n",
        "   \n",
        "    if i==\"o\" :\n",
        "      continue\n",
        "    print (i)"
      ],
      "metadata": {
        "colab": {
          "base_uri": "https://localhost:8080/"
        },
        "id": "xXKF9vCAZl0v",
        "outputId": "decdf9f9-6bce-4a3f-a982-0df4ae734d49"
      },
      "execution_count": null,
      "outputs": [
        {
          "output_type": "stream",
          "name": "stdout",
          "text": [
            "P\n",
            "y\n",
            "t\n",
            "h\n",
            "n\n"
          ]
        }
      ]
    },
    {
      "cell_type": "code",
      "source": [
        "f=[\"apple\",\"mango\",\"banana\",\"cherry\"]\n",
        "  for x in f : \n",
        "       if x==\"banana\" :\n",
        "          break\n",
        "       print(x)"
      ],
      "metadata": {
        "colab": {
          "base_uri": "https://localhost:8080/",
          "height": 166
        },
        "id": "Qt7PpCOdZUJT",
        "outputId": "81cf55f0-7575-45e5-cdb1-d5ae9767dff1"
      },
      "execution_count": null,
      "outputs": [
        {
          "output_type": "error",
          "ename": "IndentationError",
          "evalue": "ignored",
          "traceback": [
            "\u001b[0;36m  File \u001b[0;32m\"<ipython-input-16-89f7dcbafa32>\"\u001b[0;36m, line \u001b[0;32m2\u001b[0m\n\u001b[0;31m    for x in f :\u001b[0m\n\u001b[0m    ^\u001b[0m\n\u001b[0;31mIndentationError\u001b[0m\u001b[0;31m:\u001b[0m unexpected indent\n"
          ]
        }
      ]
    },
    {
      "cell_type": "code",
      "source": [
        "i=1\n",
        "while i< 6:\n",
        "  print(i)\n",
        "   i+=1"
      ],
      "metadata": {
        "id": "iaurMnm0whXn",
        "colab": {
          "base_uri": "https://localhost:8080/",
          "height": 166
        },
        "outputId": "924298e2-0b6c-4aeb-9866-0c807f3de4f4"
      },
      "execution_count": null,
      "outputs": [
        {
          "output_type": "error",
          "ename": "IndentationError",
          "evalue": "ignored",
          "traceback": [
            "\u001b[0;36m  File \u001b[0;32m\"<ipython-input-5-7bb3d559d2c3>\"\u001b[0;36m, line \u001b[0;32m4\u001b[0m\n\u001b[0;31m    i+=1\u001b[0m\n\u001b[0m    ^\u001b[0m\n\u001b[0;31mIndentationError\u001b[0m\u001b[0;31m:\u001b[0m unexpected indent\n"
          ]
        }
      ]
    }
  ]
}