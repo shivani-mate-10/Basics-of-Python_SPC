{
  "nbformat": 4,
  "nbformat_minor": 0,
  "metadata": {
    "colab": {
      "name": "Python3-24-03.ipynb",
      "provenance": []
    },
    "kernelspec": {
      "name": "python3",
      "display_name": "Python 3"
    },
    "language_info": {
      "name": "python"
    }
  },
  "cells": [
    {
      "cell_type": "code",
      "execution_count": null,
      "metadata": {
        "colab": {
          "base_uri": "https://localhost:8080/"
        },
        "id": "3UF8l880V3Of",
        "outputId": "9a5940ce-5a15-43ea-8869-b609d0e43408"
      },
      "outputs": [
        {
          "output_type": "stream",
          "name": "stdout",
          "text": [
            "False\n",
            "True\n",
            "True\n"
          ]
        }
      ],
      "source": [
        "#Booleans:represent one of the two values:True or False\n",
        "print(3>4)\n",
        "print(2==2)\n",
        "print(8<9)"
      ]
    },
    {
      "cell_type": "code",
      "source": [
        "X=\"Shiv\"\n",
        "Y=\"Suru\"\n",
        "G=[]\n",
        "print(bool(X))\n",
        "print(bool(Y))\n",
        "print(bool(G)) # Gives result false because G is empty"
      ],
      "metadata": {
        "colab": {
          "base_uri": "https://localhost:8080/"
        },
        "id": "Spk8MvPWW2Xw",
        "outputId": "e538f246-874c-432c-d88c-94c845c041ed"
      },
      "execution_count": null,
      "outputs": [
        {
          "output_type": "stream",
          "name": "stdout",
          "text": [
            "True\n",
            "True\n",
            "False\n"
          ]
        }
      ]
    },
    {
      "cell_type": "code",
      "source": [
        "a=10\n",
        "b=16\n",
        "print(bool(a==b))"
      ],
      "metadata": {
        "colab": {
          "base_uri": "https://localhost:8080/"
        },
        "id": "phGt_IyPYL-U",
        "outputId": "e8fa849c-f8c3-41cc-ff88-7c65f28fd1da"
      },
      "execution_count": null,
      "outputs": [
        {
          "output_type": "stream",
          "name": "stdout",
          "text": [
            "False\n"
          ]
        }
      ]
    },
    {
      "cell_type": "code",
      "source": [
        "x,y=5,6\n",
        "print(x==y)\n",
        "print(x!=y) # for not equal to use '!='\n",
        "print(x>=y)"
      ],
      "metadata": {
        "colab": {
          "base_uri": "https://localhost:8080/"
        },
        "id": "mMCy82FJYdmC",
        "outputId": "f245c229-9f14-4c1f-cef3-831bc3928ea3"
      },
      "execution_count": null,
      "outputs": [
        {
          "output_type": "stream",
          "name": "stdout",
          "text": [
            "False\n",
            "True\n",
            "False\n"
          ]
        }
      ]
    },
    {
      "cell_type": "code",
      "source": [
        "# Logical Operators(is , is not)\n",
        "x,y=2,3\n",
        "print(x is y)         # is,is not operators\n",
        "print(x is not y)\n",
        "a,b=5,5\n",
        "print(a is b)"
      ],
      "metadata": {
        "colab": {
          "base_uri": "https://localhost:8080/"
        },
        "id": "qHlau5xoY7wO",
        "outputId": "2e684ede-0298-4db2-eda4-196d79d7c418"
      },
      "execution_count": null,
      "outputs": [
        {
          "output_type": "stream",
          "name": "stdout",
          "text": [
            "False\n",
            "True\n",
            "True\n"
          ]
        }
      ]
    },
    {
      "cell_type": "code",
      "source": [
        "# Membership Operators(in,not in)\n",
        "X=[1,2,3,4,\"Yash\",\"Himanshu\"]\n",
        "print(X)\n",
        "print(\"Yash\"  in X)\n",
        "print(\"Himanshu\" is \"Himanshu\")\n",
        "S=\"Hello, Suru\"\n",
        "print(\"Suru\" in S)\n"
      ],
      "metadata": {
        "colab": {
          "base_uri": "https://localhost:8080/"
        },
        "id": "r2Z-F5rMZqge",
        "outputId": "0afa6ad8-62a6-437c-fbd2-122eb157bc5c"
      },
      "execution_count": null,
      "outputs": [
        {
          "output_type": "stream",
          "name": "stdout",
          "text": [
            "[1, 2, 3, 4, 'Yash', 'Himanshu']\n",
            "True\n",
            "True\n",
            "True\n"
          ]
        }
      ]
    }
  ]
}