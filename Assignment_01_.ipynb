{
  "nbformat": 4,
  "nbformat_minor": 0,
  "metadata": {
    "colab": {
      "name": "Assignment-01-.ipynb",
      "provenance": []
    },
    "kernelspec": {
      "name": "python3",
      "display_name": "Python 3"
    },
    "language_info": {
      "name": "python"
    }
  },
  "cells": [
    {
      "cell_type": "code",
      "execution_count": null,
      "metadata": {
        "id": "l6gj3UuvS4M-"
      },
      "outputs": [],
      "source": [
        "Name=\"Shivani Mate\"\n",
        "Roll_no=9167"
      ]
    },
    {
      "cell_type": "code",
      "source": [
        "#Lists\n",
        "A=['Shivani Mate','Age-21','District-Solapur']\n",
        "print(A)\n",
        "B=['TYBSc','SP College','Rollno-9167']\n",
        "print(B)"
      ],
      "metadata": {
        "colab": {
          "base_uri": "https://localhost:8080/"
        },
        "id": "ZDNOKDF_TywJ",
        "outputId": "3351c9a2-02e1-4088-a989-7ec9a9de9a5b"
      },
      "execution_count": 2,
      "outputs": [
        {
          "output_type": "stream",
          "name": "stdout",
          "text": [
            "['Shivani Mate', 'Age-21', 'District-Solapur']\n",
            "['TYBSc', 'SP College', 'Rollno-9167']\n"
          ]
        }
      ]
    },
    {
      "cell_type": "code",
      "source": [
        "#Access\n",
        "print(A[:1])\n",
        "print(B[1:])\n",
        "print(A[2])"
      ],
      "metadata": {
        "colab": {
          "base_uri": "https://localhost:8080/"
        },
        "id": "GVQ5buFTeq5y",
        "outputId": "7403e18d-cfba-480b-820f-eac6af070e0b"
      },
      "execution_count": null,
      "outputs": [
        {
          "output_type": "stream",
          "name": "stdout",
          "text": [
            "['Shivani Mate']\n",
            "['SP College', 'Rollno-9167']\n",
            "District-Solapur\n"
          ]
        }
      ]
    },
    {
      "cell_type": "code",
      "source": [
        "# class\n",
        "print(type(A))\n",
        "print(type(B))\n",
        "\n"
      ],
      "metadata": {
        "colab": {
          "base_uri": "https://localhost:8080/"
        },
        "id": "J145v3RoT4xg",
        "outputId": "324cde53-0cd1-485a-8a15-34db9ddc462c"
      },
      "execution_count": 3,
      "outputs": [
        {
          "output_type": "stream",
          "name": "stdout",
          "text": [
            "<class 'list'>\n",
            "<class 'list'>\n"
          ]
        }
      ]
    },
    {
      "cell_type": "code",
      "source": [
        "#appends():Adds an element at the end of the list\n",
        "A.append('Bloodgroup-O+')\n",
        "print(A)\n",
        "B.append('Div-A')\n",
        "print(B)"
      ],
      "metadata": {
        "colab": {
          "base_uri": "https://localhost:8080/"
        },
        "id": "OoW-f4yEfECN",
        "outputId": "30a5f230-db09-4737-ce42-cce66fb06618"
      },
      "execution_count": null,
      "outputs": [
        {
          "output_type": "stream",
          "name": "stdout",
          "text": [
            "['Shivani Mate', 'Age-21', 'District-Solapur', 'Bloodgroup-O+', 'Bloodgroup-O+']\n",
            "['TYBSc', 'SP College', 'Rollno-9167', 'Div-A']\n"
          ]
        }
      ]
    },
    {
      "cell_type": "code",
      "source": [
        ""
      ],
      "metadata": {
        "id": "O3rUexKXTvVv"
      },
      "execution_count": null,
      "outputs": []
    },
    {
      "cell_type": "code",
      "source": [
        "#count():Gives total no of elements of specified value\n",
        "A.count('Age-21')\n",
        "B.count('TYBSc')"
      ],
      "metadata": {
        "colab": {
          "base_uri": "https://localhost:8080/"
        },
        "id": "6tXYzUtMfm55",
        "outputId": "e7381f60-330d-44b8-ef52-f97373bdf7ef"
      },
      "execution_count": null,
      "outputs": [
        {
          "output_type": "execute_result",
          "data": {
            "text/plain": [
              "1"
            ]
          },
          "metadata": {},
          "execution_count": 16
        }
      ]
    },
    {
      "cell_type": "code",
      "source": [
        "#copy():returns the copy of the list\n",
        "S=A.copy()\n",
        "print(S)\n",
        "S1=B.copy()\n",
        "print(S1)"
      ],
      "metadata": {
        "colab": {
          "base_uri": "https://localhost:8080/"
        },
        "id": "pOuoeit_gC1x",
        "outputId": "2693b522-cec5-4b04-b130-b0b0aa56e2a9"
      },
      "execution_count": 5,
      "outputs": [
        {
          "output_type": "stream",
          "name": "stdout",
          "text": [
            "['Shivani Mate', 'Age-21', 'District-Solapur']\n",
            "['TYBSc', 'SP College', 'Rollno-9167']\n"
          ]
        }
      ]
    },
    {
      "cell_type": "code",
      "source": [
        "#del:delete the list\n",
        "print(S)\n",
        "del S\n",
        "print(S)"
      ],
      "metadata": {
        "id": "EXUPgRiTg1T7",
        "colab": {
          "base_uri": "https://localhost:8080/",
          "height": 217
        },
        "outputId": "b05fd150-3a78-49ae-ea8c-6cb65ade6059"
      },
      "execution_count": 6,
      "outputs": [
        {
          "output_type": "stream",
          "name": "stdout",
          "text": [
            "['Shivani Mate', 'Age-21', 'District-Solapur']\n"
          ]
        },
        {
          "output_type": "error",
          "ename": "NameError",
          "evalue": "ignored",
          "traceback": [
            "\u001b[0;31m---------------------------------------------------------------------------\u001b[0m",
            "\u001b[0;31mNameError\u001b[0m                                 Traceback (most recent call last)",
            "\u001b[0;32m<ipython-input-6-b38f152860b0>\u001b[0m in \u001b[0;36m<module>\u001b[0;34m()\u001b[0m\n\u001b[1;32m      2\u001b[0m \u001b[0mprint\u001b[0m\u001b[0;34m(\u001b[0m\u001b[0mS\u001b[0m\u001b[0;34m)\u001b[0m\u001b[0;34m\u001b[0m\u001b[0;34m\u001b[0m\u001b[0m\n\u001b[1;32m      3\u001b[0m \u001b[0;32mdel\u001b[0m \u001b[0mS\u001b[0m\u001b[0;34m\u001b[0m\u001b[0;34m\u001b[0m\u001b[0m\n\u001b[0;32m----> 4\u001b[0;31m \u001b[0mprint\u001b[0m\u001b[0;34m(\u001b[0m\u001b[0mS\u001b[0m\u001b[0;34m)\u001b[0m\u001b[0;34m\u001b[0m\u001b[0;34m\u001b[0m\u001b[0m\n\u001b[0m",
            "\u001b[0;31mNameError\u001b[0m: name 'S' is not defined"
          ]
        }
      ]
    },
    {
      "cell_type": "code",
      "source": [
        "#Extend\n",
        "print(A)\n",
        "print(B)\n",
        "A.extend(B)\n",
        "print(A)"
      ],
      "metadata": {
        "colab": {
          "base_uri": "https://localhost:8080/"
        },
        "id": "9BXUG2ToV5FK",
        "outputId": "0a960e76-890f-4e0d-eed9-27206fc9ee83"
      },
      "execution_count": 22,
      "outputs": [
        {
          "output_type": "stream",
          "name": "stdout",
          "text": [
            "['Shivani Mate', 'Age-21', 'District-Solapur']\n",
            "['TYBSc', 'SP College', 'Rollno-9167']\n",
            "['Shivani Mate', 'Age-21', 'District-Solapur', 'TYBSc', 'SP College', 'Rollno-9167']\n"
          ]
        }
      ]
    },
    {
      "cell_type": "code",
      "source": [
        "#Index\n",
        "print(A.index('Age-21'))\n",
        "print(B.index('SP College'))"
      ],
      "metadata": {
        "colab": {
          "base_uri": "https://localhost:8080/"
        },
        "id": "ATPqvE5WWQWc",
        "outputId": "35943af5-0914-49c2-df0f-5b07d718a0d7"
      },
      "execution_count": 26,
      "outputs": [
        {
          "output_type": "stream",
          "name": "stdout",
          "text": [
            "1\n",
            "1\n"
          ]
        }
      ]
    },
    {
      "cell_type": "code",
      "source": [
        "#Sort\n",
        "print(A)\n",
        "print(B)\n",
        "A.sort()\n",
        "B.sort()\n",
        "print(A)\n",
        "print(B)"
      ],
      "metadata": {
        "colab": {
          "base_uri": "https://localhost:8080/"
        },
        "id": "5z2bb2qdyv2m",
        "outputId": "66828ed7-af91-4e4f-9bd5-4e2f9672cb1b"
      },
      "execution_count": 7,
      "outputs": [
        {
          "output_type": "stream",
          "name": "stdout",
          "text": [
            "['Shivani Mate', 'Age-21', 'District-Solapur']\n",
            "['TYBSc', 'SP College', 'Rollno-9167']\n",
            "['Age-21', 'District-Solapur', 'Shivani Mate']\n",
            "['Rollno-9167', 'SP College', 'TYBSc']\n"
          ]
        }
      ]
    },
    {
      "cell_type": "code",
      "source": [
        "# Nested List\n",
        "W=['Shivani Mate', 'Age-21', 'District-Solapur',['Rollno-9167', 'SP College', 'TYBSc']]\n",
        "print(W)\n",
        "print(W[3:])"
      ],
      "metadata": {
        "colab": {
          "base_uri": "https://localhost:8080/"
        },
        "id": "ESzhzNgN0aHb",
        "outputId": "00841edd-256c-4f0a-be4e-38931a9d66f4"
      },
      "execution_count": 12,
      "outputs": [
        {
          "output_type": "stream",
          "name": "stdout",
          "text": [
            "['Shivani Mate', 'Age-21', 'District-Solapur', ['Rollno-9167', 'SP College', 'TYBSc']]\n",
            "[['Rollno-9167', 'SP College', 'TYBSc']]\n"
          ]
        }
      ]
    },
    {
      "cell_type": "code",
      "source": [
        "#Tuples\n",
        "a=('Shivani Mate','Age-21','District-Solapur')\n",
        "print(a)\n",
        "b=('TYBSc','SP College','Rollno-9167')\n",
        "print(b)"
      ],
      "metadata": {
        "colab": {
          "base_uri": "https://localhost:8080/"
        },
        "id": "vt8gdbNSM5Y-",
        "outputId": "eda2a024-9afc-4669-f817-dd7b1f665060"
      },
      "execution_count": 1,
      "outputs": [
        {
          "output_type": "stream",
          "name": "stdout",
          "text": [
            "('Shivani Mate', 'Age-21', 'District-Solapur')\n",
            "('TYBSc', 'SP College', 'Rollno-9167')\n"
          ]
        }
      ]
    },
    {
      "cell_type": "code",
      "source": [
        "#Access\n",
        "print(a[:1])\n",
        "print(b[1:])\n",
        "print(a[2])"
      ],
      "metadata": {
        "colab": {
          "base_uri": "https://localhost:8080/"
        },
        "id": "-dyXhVXiP0a1",
        "outputId": "d41dcc9d-fbd7-4e6a-c847-d7c8332cbe73"
      },
      "execution_count": 2,
      "outputs": [
        {
          "output_type": "stream",
          "name": "stdout",
          "text": [
            "('Shivani Mate',)\n",
            "('SP College', 'Rollno-9167')\n",
            "District-Solapur\n"
          ]
        }
      ]
    },
    {
      "cell_type": "code",
      "source": [
        "print(type(a))\n",
        "print(type(b))\n"
      ],
      "metadata": {
        "colab": {
          "base_uri": "https://localhost:8080/"
        },
        "id": "6ea7zuRcQLyt",
        "outputId": "d98e7175-b421-4a05-a132-6c6b0b7a094a"
      },
      "execution_count": 3,
      "outputs": [
        {
          "output_type": "stream",
          "name": "stdout",
          "text": [
            "<class 'tuple'>\n",
            "<class 'tuple'>\n"
          ]
        }
      ]
    },
    {
      "cell_type": "code",
      "source": [
        "#appends():Adds an element at the end of the list\n",
        "a.append('Bloodgroup-O+')\n",
        "print(a)\n",
        "b.append('Div-A')\n",
        "print(b)\n",
        "#AttributeError: 'tuple' object has no attribute 'append'"
      ],
      "metadata": {
        "id": "VRZLJWhUQb45"
      },
      "execution_count": null,
      "outputs": []
    },
    {
      "cell_type": "code",
      "source": [
        "#count():Gives total no of elements of specified value\n",
        "a.count('Age-21')\n",
        "b.count('TYBSc')"
      ],
      "metadata": {
        "colab": {
          "base_uri": "https://localhost:8080/"
        },
        "id": "mR9baKO8QrQb",
        "outputId": "f8fd727c-0ce7-4c46-b97f-646ab1382a92"
      },
      "execution_count": 5,
      "outputs": [
        {
          "output_type": "execute_result",
          "data": {
            "text/plain": [
              "1"
            ]
          },
          "metadata": {},
          "execution_count": 5
        }
      ]
    },
    {
      "cell_type": "code",
      "source": [
        "#copy():returns the copy of the list\n",
        "S=a.copy()\n",
        "print(S)\n",
        "S1=b.copy()\n",
        "print(S1)\n",
        "#AttributeError: 'tuple' object has no attribute 'copy'"
      ],
      "metadata": {
        "id": "e8R8nUKRQ5Jg"
      },
      "execution_count": null,
      "outputs": []
    },
    {
      "cell_type": "code",
      "source": [
        "#del:delete the list\n",
        "A=('A','B','C')\n",
        "print(A)\n",
        "del A\n",
        "print(A)\n"
      ],
      "metadata": {
        "colab": {
          "base_uri": "https://localhost:8080/",
          "height": 217
        },
        "id": "Dh5g34tZRKUq",
        "outputId": "b9023b59-f019-45b2-c3a5-d981759c85b6"
      },
      "execution_count": 11,
      "outputs": [
        {
          "output_type": "stream",
          "name": "stdout",
          "text": [
            "('A', 'B', 'C')\n"
          ]
        },
        {
          "output_type": "error",
          "ename": "NameError",
          "evalue": "ignored",
          "traceback": [
            "\u001b[0;31m---------------------------------------------------------------------------\u001b[0m",
            "\u001b[0;31mNameError\u001b[0m                                 Traceback (most recent call last)",
            "\u001b[0;32m<ipython-input-11-26857eace3ca>\u001b[0m in \u001b[0;36m<module>\u001b[0;34m()\u001b[0m\n\u001b[1;32m      3\u001b[0m \u001b[0mprint\u001b[0m\u001b[0;34m(\u001b[0m\u001b[0mA\u001b[0m\u001b[0;34m)\u001b[0m\u001b[0;34m\u001b[0m\u001b[0;34m\u001b[0m\u001b[0m\n\u001b[1;32m      4\u001b[0m \u001b[0;32mdel\u001b[0m \u001b[0mA\u001b[0m\u001b[0;34m\u001b[0m\u001b[0;34m\u001b[0m\u001b[0m\n\u001b[0;32m----> 5\u001b[0;31m \u001b[0mprint\u001b[0m\u001b[0;34m(\u001b[0m\u001b[0mA\u001b[0m\u001b[0;34m)\u001b[0m\u001b[0;34m\u001b[0m\u001b[0;34m\u001b[0m\u001b[0m\n\u001b[0m",
            "\u001b[0;31mNameError\u001b[0m: name 'A' is not defined"
          ]
        }
      ]
    },
    {
      "cell_type": "code",
      "source": [
        "#Extend\n",
        "print(a)\n",
        "print(b)\n",
        "a.extend(b)\n",
        "print(a)\n",
        "#AttributeError: 'tuple' object has no attribute 'extend'"
      ],
      "metadata": {
        "id": "AS3b7A8tRmBg"
      },
      "execution_count": null,
      "outputs": []
    },
    {
      "cell_type": "code",
      "source": [
        "#Index\n",
        "print(a.index('Age-21'))\n",
        "print(b.index('SP College'))"
      ],
      "metadata": {
        "colab": {
          "base_uri": "https://localhost:8080/"
        },
        "id": "OLy6_aprR5rW",
        "outputId": "11288e47-0d65-47cb-cb40-5ab6c1c4a4ca"
      },
      "execution_count": 14,
      "outputs": [
        {
          "output_type": "stream",
          "name": "stdout",
          "text": [
            "1\n",
            "1\n"
          ]
        }
      ]
    },
    {
      "cell_type": "code",
      "source": [
        "#Sort\n",
        "print(a)\n",
        "print(b)\n",
        "a.sort()\n",
        "b.sort()\n",
        "print(a)\n",
        "print(b)\n",
        "#AttributeError: 'tuple' object has no attribute 'sort'"
      ],
      "metadata": {
        "id": "7LR7PbCmSUq7"
      },
      "execution_count": null,
      "outputs": []
    },
    {
      "cell_type": "code",
      "source": [
        "# Nested List\n",
        "W=('Shivani Mate', 'Age-21', 'District-Solapur',('Rollno-9167', 'SP College', 'TYBSc'))\n",
        "print(W)\n"
      ],
      "metadata": {
        "colab": {
          "base_uri": "https://localhost:8080/"
        },
        "id": "WaNwaX7KSpBQ",
        "outputId": "5ca48781-943b-457d-f7ce-a0c45f11ee3c"
      },
      "execution_count": 17,
      "outputs": [
        {
          "output_type": "stream",
          "name": "stdout",
          "text": [
            "('Shivani Mate', 'Age-21', 'District-Solapur', ('Rollno-9167', 'SP College', 'TYBSc'))\n"
          ]
        }
      ]
    }
  ]
}