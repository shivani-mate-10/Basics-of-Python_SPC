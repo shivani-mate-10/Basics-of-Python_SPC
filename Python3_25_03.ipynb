{
  "nbformat": 4,
  "nbformat_minor": 0,
  "metadata": {
    "colab": {
      "name": "Python3-25-03.ipynb",
      "provenance": []
    },
    "kernelspec": {
      "name": "python3",
      "display_name": "Python 3"
    },
    "language_info": {
      "name": "python"
    }
  },
  "cells": [
    {
      "cell_type": "code",
      "source": [
        "Name=\"Shivani Mate\"\n",
        "Roll No=\"9167\""
      ],
      "metadata": {
        "id": "ejkPmRrfdkYZ"
      },
      "execution_count": null,
      "outputs": []
    },
    {
      "cell_type": "code",
      "source": [
        "a=\"Suru\"\n",
        "b=\"Yash\"\n",
        "c=[\"Himanshu\",\"Shiv\"]\n",
        "print(type(c))\n",
        "print(c)\n",
        "print(type(b))\n",
        "print(b)\n",
        "print(type(a))\n",
        "print(a)\n",
        "\n"
      ],
      "metadata": {
        "colab": {
          "base_uri": "https://localhost:8080/"
        },
        "id": "40BrHThgdxGw",
        "outputId": "1d06ac0a-fa89-4220-91c9-af00ea561b12"
      },
      "execution_count": null,
      "outputs": [
        {
          "output_type": "stream",
          "name": "stdout",
          "text": [
            "<class 'list'>\n",
            "['Himanshu', 'Shiv']\n",
            "<class 'str'>\n",
            "Yash\n",
            "<class 'str'>\n",
            "Suru\n"
          ]
        }
      ]
    },
    {
      "cell_type": "code",
      "source": [
        "names=['Sakshi','Gauri','Surabhi','Himanshu','Yash','Prashant','Megha','Pratiksha']\n",
        "print(names[:4])  \n",
        "print(names[3:])\n",
        "names[0]\n",
        "\n"
      ],
      "metadata": {
        "colab": {
          "base_uri": "https://localhost:8080/",
          "height": 70
        },
        "id": "yKCA1obQfaLI",
        "outputId": "358e4154-3a51-460e-c4f7-e7985e657aeb"
      },
      "execution_count": null,
      "outputs": [
        {
          "output_type": "stream",
          "name": "stdout",
          "text": [
            "['Sakshi', 'Gauri', 'Surabhi', 'Himanshu']\n",
            "['Himanshu', 'Yash', 'Prashant', 'Megha', 'Pratiksha']\n"
          ]
        },
        {
          "output_type": "execute_result",
          "data": {
            "text/plain": [
              "'Sakshi'"
            ],
            "application/vnd.google.colaboratory.intrinsic+json": {
              "type": "string"
            }
          },
          "metadata": {},
          "execution_count": 1
        }
      ]
    },
    {
      "cell_type": "code",
      "source": [
        "# Looping through lists\n"
      ],
      "metadata": {
        "id": "Un1LTbzigJNj"
      },
      "execution_count": null,
      "outputs": []
    },
    {
      "cell_type": "code",
      "source": [
        "#appends():Adds an elements at the end of the list\n",
        "print(names)\n",
        "names.append('Kalyani')\n",
        "print(names)\n"
      ],
      "metadata": {
        "colab": {
          "base_uri": "https://localhost:8080/"
        },
        "id": "dle7kfXZgwsO",
        "outputId": "d106ec1c-b005-42ef-a73c-0a2c14042c3b"
      },
      "execution_count": null,
      "outputs": [
        {
          "output_type": "stream",
          "name": "stdout",
          "text": [
            "['Sakshi', 'Gauri', 'Surabhi', 'Himanshu', 'Yash', 'Prashant', 'Megha', 'Pratiksha']\n",
            "['Sakshi', 'Gauri', 'Surabhi', 'Himanshu', 'Yash', 'Prashant', 'Megha', 'Pratiksha', 'Kalyani']\n"
          ]
        }
      ]
    },
    {
      "cell_type": "code",
      "source": [
        "#count():Gives the total no of elements with specified value\n",
        "names.count('Himanshu')\n"
      ],
      "metadata": {
        "colab": {
          "base_uri": "https://localhost:8080/"
        },
        "id": "2Aq79zFJi7r1",
        "outputId": "cba78cd5-d7f2-4126-cd4a-d201d1847ec9"
      },
      "execution_count": null,
      "outputs": [
        {
          "output_type": "execute_result",
          "data": {
            "text/plain": [
              "1"
            ]
          },
          "metadata": {},
          "execution_count": 19
        }
      ]
    },
    {
      "cell_type": "code",
      "source": [
        "#copy():Returns copy of the list\n",
        "X=names.copy()\n",
        "print(X)"
      ],
      "metadata": {
        "colab": {
          "base_uri": "https://localhost:8080/"
        },
        "id": "hUV7bl8EjAEv",
        "outputId": "f0ffb594-59c0-4a70-fe66-7e8cf48ceb14"
      },
      "execution_count": null,
      "outputs": [
        {
          "output_type": "stream",
          "name": "stdout",
          "text": [
            "['Sakshi', 'Gauri', 'Surabhi', 'Himanshu', 'Yash', 'Prashant', 'Megha', 'Pratiksha', 'Kalyani']\n"
          ]
        }
      ]
    },
    {
      "cell_type": "code",
      "source": [
        "#del:Delete list\n",
        "print(names)\n",
        "del names\n",
        "print(names)"
      ],
      "metadata": {
        "colab": {
          "base_uri": "https://localhost:8080/",
          "height": 217
        },
        "id": "IJJceEzLjSJw",
        "outputId": "7e81a091-1ef8-4dcb-f734-88d74d31a577"
      },
      "execution_count": null,
      "outputs": [
        {
          "output_type": "stream",
          "name": "stdout",
          "text": [
            "['Sakshi', 'Gauri', 'Surabhi', 'Himanshu', 'Yash', 'Prashant', 'Megha', 'Pratiksha']\n"
          ]
        },
        {
          "output_type": "error",
          "ename": "NameError",
          "evalue": "ignored",
          "traceback": [
            "\u001b[0;31m---------------------------------------------------------------------------\u001b[0m",
            "\u001b[0;31mNameError\u001b[0m                                 Traceback (most recent call last)",
            "\u001b[0;32m<ipython-input-25-1fd754a32559>\u001b[0m in \u001b[0;36m<module>\u001b[0;34m()\u001b[0m\n\u001b[1;32m      2\u001b[0m \u001b[0mprint\u001b[0m\u001b[0;34m(\u001b[0m\u001b[0mnames\u001b[0m\u001b[0;34m)\u001b[0m\u001b[0;34m\u001b[0m\u001b[0;34m\u001b[0m\u001b[0m\n\u001b[1;32m      3\u001b[0m \u001b[0;32mdel\u001b[0m \u001b[0mnames\u001b[0m\u001b[0;34m\u001b[0m\u001b[0;34m\u001b[0m\u001b[0m\n\u001b[0;32m----> 4\u001b[0;31m \u001b[0mprint\u001b[0m\u001b[0;34m(\u001b[0m\u001b[0mnames\u001b[0m\u001b[0;34m)\u001b[0m\u001b[0;34m\u001b[0m\u001b[0;34m\u001b[0m\u001b[0m\n\u001b[0m",
            "\u001b[0;31mNameError\u001b[0m: name 'names' is not defined"
          ]
        }
      ]
    },
    {
      "cell_type": "code",
      "source": [
        "# extend():Add elements of the list to the end of the current list\n",
        "A=['a','b','c','d']\n",
        "names.extend(A)\n",
        "print(names)"
      ],
      "metadata": {
        "colab": {
          "base_uri": "https://localhost:8080/"
        },
        "id": "Sj4_qrDxj6Vs",
        "outputId": "07b897a5-7907-428b-fb7e-84b5856b9188"
      },
      "execution_count": null,
      "outputs": [
        {
          "output_type": "stream",
          "name": "stdout",
          "text": [
            "['Sakshi', 'Gauri', 'Surabhi', 'Himanshu', 'Yash', 'Prashant', 'Megha', 'Pratiksha', 'a', 'b', 'c', 'd', 'a', 'b', 'c', 'd']\n"
          ]
        }
      ]
    },
    {
      "cell_type": "code",
      "source": [
        "#index():Returns the index of the first element with specified value\n",
        "names.index('Surabhi')"
      ],
      "metadata": {
        "colab": {
          "base_uri": "https://localhost:8080/"
        },
        "id": "nNuh2Ep1k76X",
        "outputId": "72e1c58a-e7ba-491a-90ae-4414ddb4cabd"
      },
      "execution_count": null,
      "outputs": [
        {
          "output_type": "execute_result",
          "data": {
            "text/plain": [
              "2"
            ]
          },
          "metadata": {},
          "execution_count": 29
        }
      ]
    },
    {
      "cell_type": "code",
      "source": [
        "#sort():sorts the list\n",
        "names.sort()\n",
        "print(names)"
      ],
      "metadata": {
        "colab": {
          "base_uri": "https://localhost:8080/"
        },
        "id": "G50k4lJ8mKWf",
        "outputId": "565c7bba-ff2a-4775-ba53-c92253a3cf6b"
      },
      "execution_count": null,
      "outputs": [
        {
          "output_type": "stream",
          "name": "stdout",
          "text": [
            "['Gauri', 'Himanshu', 'Megha', 'Prashant', 'Pratiksha', 'Sakshi', 'Surabhi', 'Yash']\n"
          ]
        }
      ]
    },
    {
      "cell_type": "code",
      "source": [
        "H=(1,2,3,4)\n",
        "h=('ab','cd','ef')\n",
        "print(H,\"/n\")\n",
        "print(type(h))"
      ],
      "metadata": {
        "colab": {
          "base_uri": "https://localhost:8080/"
        },
        "id": "Zf9jlK87m2L0",
        "outputId": "b04fe9f0-abbd-4131-ade4-abf57db49fb8"
      },
      "execution_count": null,
      "outputs": [
        {
          "output_type": "stream",
          "name": "stdout",
          "text": [
            "(1, 2, 3, 4) /n\n",
            "<class 'tuple'>\n"
          ]
        }
      ]
    },
    {
      "cell_type": "code",
      "source": [
        "#Negative index\n",
        "print(H[])"
      ],
      "metadata": {
        "id": "XG9rC5NEsFsm"
      },
      "execution_count": null,
      "outputs": []
    },
    {
      "cell_type": "code",
      "source": [
        "#del():Delete tuples\n",
        "del(h)"
      ],
      "metadata": {
        "id": "ZwJzh4YvsS2n"
      },
      "execution_count": null,
      "outputs": []
    },
    {
      "cell_type": "code",
      "source": [
        ""
      ],
      "metadata": {
        "id": "1npGgzIAmc2G"
      },
      "execution_count": null,
      "outputs": []
    },
    {
      "cell_type": "code",
      "source": [
        ""
      ],
      "metadata": {
        "id": "QcCbnjjTpGS6"
      },
      "execution_count": null,
      "outputs": []
    }
  ]
}