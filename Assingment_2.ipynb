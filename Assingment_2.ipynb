{
  "nbformat": 4,
  "nbformat_minor": 0,
  "metadata": {
    "colab": {
      "name": "Assingment-2.ipynb",
      "provenance": []
    },
    "kernelspec": {
      "name": "python3",
      "display_name": "Python 3"
    },
    "language_info": {
      "name": "python"
    }
  },
  "cells": [
    {
      "cell_type": "code",
      "execution_count": 1,
      "metadata": {
        "colab": {
          "base_uri": "https://localhost:8080/"
        },
        "id": "be-6SKfHt0J8",
        "outputId": "6b9c84ad-3069-4cde-a6b4-5f4dcf9cd644"
      },
      "outputs": [
        {
          "output_type": "stream",
          "name": "stdout",
          "text": [
            "Enter the String to be Reversed Population\n",
            "The Reversed String is noitalupoP\n"
          ]
        }
      ],
      "source": [
        "#Q1.Write a Python User Define Function to reverse a string\n",
        "def rev(Inp):\n",
        " ReverseInp=Inp[::-1] \n",
        " print (\"The Reversed String is\",ReverseInp) # Print the reversed string\n",
        "\n",
        "Stri=input(\"Enter the String to be Reversed \") # Input From the User\n",
        "rev(Stri) "
      ]
    },
    {
      "cell_type": "code",
      "source": [
        "#Q2. Write a Python min_max function which will return Min, Max of 4 inputs from the user.\n",
        "def min_max(A,B,C,D):\n",
        "  print(\"The Maxmimum value from the input values is: \", max(A,B,C,D))\n",
        "  print(\"The Minimum value from the input values is: \", min(A,B,C,D))\n",
        "  \n",
        "M,N,O,P = input(\"Enter four values to find minimum and maximum value separated by space: \").split()\n",
        "min_max(M,N,O,P)\n"
      ],
      "metadata": {
        "colab": {
          "base_uri": "https://localhost:8080/"
        },
        "id": "p0ibjnj_08v9",
        "outputId": "a26caf65-0dc7-4d91-96d6-a7f06dddd3ca"
      },
      "execution_count": 7,
      "outputs": [
        {
          "output_type": "stream",
          "name": "stdout",
          "text": [
            "Enter four values to find minimum and maximum value separated by space: 5 6 7 0\n",
            "The Maxmimum value from the input values is:  7\n",
            "The Minimum value from the input values is:  0\n"
          ]
        }
      ]
    },
    {
      "cell_type": "code",
      "source": [
        "#Q3. Write a Python function to sum 4 inputs from the user.\n",
        "def Sum4(P,Q,R,S):\n",
        "  sum = P+Q+R+S\n",
        "  print(\"The Sum of the input vlaues is: \", sum)\n",
        "\n",
        "a,b,c,d= list(map(float, input(\"Enter four values to find sum of them separated by space: \").split()))\n",
        "Sum4 (a,b,c,d)"
      ],
      "metadata": {
        "colab": {
          "base_uri": "https://localhost:8080/"
        },
        "id": "CYHNUxNnNTut",
        "outputId": "98e3b4c2-f697-4142-addf-300d32eb73c4"
      },
      "execution_count": 9,
      "outputs": [
        {
          "output_type": "stream",
          "name": "stdout",
          "text": [
            "Enter four values to find sum of them separated by space: 7 2 1 3\n",
            "The Sum of the input vlaues is:  13.0\n"
          ]
        }
      ]
    },
    {
      "cell_type": "code",
      "source": [
        "#Q4. Find out the Command which will return you number of local variables from the user define function.\n",
        "print(\"The Number of Local Variables in the given User Defined Function is: \" ,Sum4.__code__.co_nlocals)"
      ],
      "metadata": {
        "colab": {
          "base_uri": "https://localhost:8080/"
        },
        "id": "xn47Z_WiOEnr",
        "outputId": "03835bde-497a-44ed-caa9-d654fcbae9aa"
      },
      "execution_count": 10,
      "outputs": [
        {
          "output_type": "stream",
          "name": "stdout",
          "text": [
            "The Number of Local Variables in the given User Defined Function is:  5\n"
          ]
        }
      ]
    },
    {
      "cell_type": "code",
      "source": [
        "#Q5.Write Python Function to get even number from the list. List len must be equal to 8.\n",
        "list1 = list(map(float, input(\"Enter a list of 8 elements separated by space: \").split()))\n",
        "L = len(list1)\n",
        "if (L==8):\n",
        "    print(\"The Even Numbers are : \")\n",
        "    for num in list1:\n",
        "  \n",
        "        if (num % 2 == 0):\n",
        "            print(num, end=\" \")\n",
        "else: \n",
        "    print(\"There are less than 8 elements in the list\")"
      ],
      "metadata": {
        "colab": {
          "base_uri": "https://localhost:8080/"
        },
        "id": "kfjguBvlOU-N",
        "outputId": "ddec9af2-a0eb-4381-a0d9-b92d73bd3d6c"
      },
      "execution_count": 12,
      "outputs": [
        {
          "output_type": "stream",
          "name": "stdout",
          "text": [
            "Enter a list of 8 elements separated by space: 2 4 7 8 3 5 0 1\n",
            "The Even Numbers are : \n",
            "2.0 4.0 8.0 0.0 "
          ]
        }
      ]
    }
  ]
}