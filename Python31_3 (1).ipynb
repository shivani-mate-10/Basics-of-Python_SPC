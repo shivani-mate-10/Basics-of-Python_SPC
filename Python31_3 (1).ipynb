{
  "nbformat": 4,
  "nbformat_minor": 0,
  "metadata": {
    "colab": {
      "name": "Python31/3.ipynb",
      "provenance": [],
      "collapsed_sections": []
    },
    "kernelspec": {
      "name": "python3",
      "display_name": "Python 3"
    },
    "language_info": {
      "name": "python"
    }
  },
  "cells": [
    {
      "cell_type": "code",
      "source": [
        "# Dictionary : unorderd , changeable, indexed, {}"
      ],
      "metadata": {
        "id": "1ehsqWi-XpZm"
      },
      "execution_count": null,
      "outputs": []
    },
    {
      "cell_type": "code",
      "source": [
        "d1={\"Name\":\"Naruto\",\"Class\":\"TY\",\"Roll No.\":9165,\"Result\":\"Distincton\"}\n",
        "print(d1)\n",
        "d1[\"Roll No.\"]"
      ],
      "metadata": {
        "colab": {
          "base_uri": "https://localhost:8080/"
        },
        "id": "nXpCL6G8Y-aR",
        "outputId": "ce834826-1224-468b-9192-464a4ff8abb2"
      },
      "execution_count": null,
      "outputs": [
        {
          "output_type": "stream",
          "name": "stdout",
          "text": [
            "{'Name': 'Naruto', 'Class': 'TY', 'Roll No.': 9165, 'Result': 'Distincton'}\n"
          ]
        },
        {
          "output_type": "execute_result",
          "data": {
            "text/plain": [
              "9165"
            ]
          },
          "metadata": {},
          "execution_count": 4
        }
      ]
    },
    {
      "cell_type": "code",
      "source": [
        "d1[\"Class\"]=\"TYBSc\"\n",
        "print(d1)"
      ],
      "metadata": {
        "colab": {
          "base_uri": "https://localhost:8080/"
        },
        "id": "ayJo0EAyZvzV",
        "outputId": "c35ff352-8788-4982-c4da-6b0e5ff5e3b6"
      },
      "execution_count": null,
      "outputs": [
        {
          "output_type": "stream",
          "name": "stdout",
          "text": [
            "{'Name': 'Naruto', 'Class': 'TYBSc', 'Roll No.': 9165, 'Result': 'Distincton'}\n"
          ]
        }
      ]
    },
    {
      "cell_type": "code",
      "source": [
        "d1.keys()"
      ],
      "metadata": {
        "colab": {
          "base_uri": "https://localhost:8080/"
        },
        "id": "IUO1tVFdaKNu",
        "outputId": "934db289-9689-4ac9-86cc-d064c149fe2d"
      },
      "execution_count": null,
      "outputs": [
        {
          "output_type": "execute_result",
          "data": {
            "text/plain": [
              "dict_keys(['Name', 'Class', 'Roll No.', 'Result'])"
            ]
          },
          "metadata": {},
          "execution_count": 6
        }
      ]
    },
    {
      "cell_type": "code",
      "source": [
        "d1.values()"
      ],
      "metadata": {
        "colab": {
          "base_uri": "https://localhost:8080/"
        },
        "id": "wag7vkK1aPGx",
        "outputId": "3e9feb71-362c-48cf-dfa4-89f34cf8e0fa"
      },
      "execution_count": null,
      "outputs": [
        {
          "output_type": "execute_result",
          "data": {
            "text/plain": [
              "dict_values(['Naruto', 'TYBSc', 9165, 'Distincton'])"
            ]
          },
          "metadata": {},
          "execution_count": 7
        }
      ]
    },
    {
      "cell_type": "code",
      "source": [
        "d1.items()"
      ],
      "metadata": {
        "colab": {
          "base_uri": "https://localhost:8080/"
        },
        "id": "dB1EfojKaYi5",
        "outputId": "3ac44c5b-579d-4e05-f655-c9b278a71e18"
      },
      "execution_count": null,
      "outputs": [
        {
          "output_type": "execute_result",
          "data": {
            "text/plain": [
              "dict_items([('Name', 'Naruto'), ('Class', 'TYBSc'), ('Roll No.', 9165), ('Result', 'Distincton')])"
            ]
          },
          "metadata": {},
          "execution_count": 8
        }
      ]
    },
    {
      "cell_type": "markdown",
      "source": [
        "Nested Dictionary"
      ],
      "metadata": {
        "id": "WellY2vsajw6"
      }
    },
    {
      "cell_type": "code",
      "source": [
        "myfamily={\n",
        "            \"child1\":{\n",
        "                        \"Name\":\"Naruto\",\n",
        "                        \"year\": 2002\n",
        "            },\n",
        "          \"child2\":{\n",
        "                        \"Name\":\"Hinata\",\n",
        "                        \"year\": 2001\n",
        "            }\n",
        "}\n",
        "print(myfamily)"
      ],
      "metadata": {
        "colab": {
          "base_uri": "https://localhost:8080/"
        },
        "id": "I3I4t58oagEs",
        "outputId": "af0b622f-1963-4af4-c9cc-b7162d524980"
      },
      "execution_count": null,
      "outputs": [
        {
          "output_type": "stream",
          "name": "stdout",
          "text": [
            "{'child1': {'Name': 'Naruto', 'year': 2002}, 'child2': {'Name': 'Hinata', 'year': 2001}}\n"
          ]
        }
      ]
    },
    {
      "cell_type": "code",
      "source": [
        "{\"child_1\":{\"Name\":\"Naruto\",\"year\": 2002 }}\n",
        "{\"child_2\":{\"Name\":\"Naruto\",\"year\": 2002 }}                       \n",
        "{\"child_3\":{\"Name\":\"Naruto\",\"year\": 2002 }}                      \n",
        "my_family={\"c1\":\"child_1\",\"c2\":\"child_2\",\"c3\":\"child_3\"}\n",
        "print(my_family)"
      ],
      "metadata": {
        "colab": {
          "base_uri": "https://localhost:8080/"
        },
        "id": "mp4LIXGzcP2a",
        "outputId": "c811f619-93b2-4fb1-e3b4-ea04138b285c"
      },
      "execution_count": null,
      "outputs": [
        {
          "output_type": "stream",
          "name": "stdout",
          "text": [
            "{'c1': 'child_1', 'c2': 'child_2', 'c3': 'child_3'}\n"
          ]
        }
      ]
    },
    {
      "cell_type": "code",
      "source": [
        "A=['A','B','C','D']\n",
        "B=('A','B','C','D')\n",
        "A.append('Z')\n",
        "print(A)\n",
        "print(B)"
      ],
      "metadata": {
        "colab": {
          "base_uri": "https://localhost:8080/"
        },
        "id": "xHjBeUnUiJ_R",
        "outputId": "0d2ad154-23d6-4e1e-af1c-7494018bd35a"
      },
      "execution_count": null,
      "outputs": [
        {
          "output_type": "stream",
          "name": "stdout",
          "text": [
            "['A', 'B', 'C', 'D', 'Z']\n",
            "('A', 'B', 'C', 'D')\n"
          ]
        }
      ]
    },
    {
      "cell_type": "code",
      "source": [
        "#replace B with H\n",
        "A[1]='H'\n",
        "print(A)"
      ],
      "metadata": {
        "colab": {
          "base_uri": "https://localhost:8080/"
        },
        "id": "m3h71ENfjmTq",
        "outputId": "0add6a02-9e82-4fe4-90a7-1264f6eafbec"
      },
      "execution_count": null,
      "outputs": [
        {
          "output_type": "stream",
          "name": "stdout",
          "text": [
            "['A', 'H', 'C', 'D', 'Z']\n"
          ]
        }
      ]
    },
    {
      "cell_type": "code",
      "source": [
        "# creat copy A1 and B1\n",
        "A1=A.copy()\n",
        "print(A1)"
      ],
      "metadata": {
        "colab": {
          "base_uri": "https://localhost:8080/"
        },
        "id": "N47SjTkmk3o8",
        "outputId": "d046e7b7-7144-40f2-a9b1-b0b99c18f62a"
      },
      "execution_count": null,
      "outputs": [
        {
          "output_type": "stream",
          "name": "stdout",
          "text": [
            "['A', 'H', 'C', 'D', 'Z']\n"
          ]
        }
      ]
    },
    {
      "cell_type": "code",
      "source": [
        "#clear A1 \n",
        "A1.clear()\n",
        "print(A1)"
      ],
      "metadata": {
        "id": "aDL6HCSFlpiK",
        "colab": {
          "base_uri": "https://localhost:8080/"
        },
        "outputId": "3e7cec1b-4fde-4425-f8f2-31b96a62d187"
      },
      "execution_count": null,
      "outputs": [
        {
          "output_type": "stream",
          "name": "stdout",
          "text": [
            "[]\n"
          ]
        }
      ]
    },
    {
      "cell_type": "code",
      "source": [
        "# Insert\n",
        "print(A)\n",
        "A.insert(1,'M')\n",
        "print(A)"
      ],
      "metadata": {
        "colab": {
          "base_uri": "https://localhost:8080/"
        },
        "id": "s5q1bMHyl35g",
        "outputId": "765b6984-51c6-4751-8fac-42377370d1a9"
      },
      "execution_count": null,
      "outputs": [
        {
          "output_type": "stream",
          "name": "stdout",
          "text": [
            "['A', 'H', 'C', 'D', 'Z']\n",
            "['A', 'M', 'H', 'C', 'D', 'Z']\n"
          ]
        }
      ]
    }
  ]
}